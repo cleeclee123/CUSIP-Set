{
 "cells": [
  {
   "cell_type": "code",
   "execution_count": 5,
   "metadata": {},
   "outputs": [
    {
     "name": "stdout",
     "output_type": "stream",
     "text": [
      "The autoreload extension is already loaded. To reload it, use:\n",
      "  %reload_ext autoreload\n"
     ]
    }
   ],
   "source": [
    "import pandas as pd\n",
    "import httpx\n",
    "import asyncio\n",
    "import ujson as json\n",
    "from datetime import datetime\n",
    "import os\n",
    "from typing import Dict, TypeAlias\n",
    "\n",
    "from script import FedInvestFetcher\n",
    "JSON: TypeAlias = dict[str, \"JSON\"] | list[\"JSON\"] | str | int | float | bool | None\n",
    "\n",
    "import nest_asyncio\n",
    "nest_asyncio.apply()\n",
    "\n",
    "%load_ext autoreload\n",
    "%autoreload 2"
   ]
  },
  {
   "cell_type": "code",
   "execution_count": 6,
   "metadata": {},
   "outputs": [],
   "source": [
    "def runner(dates):\n",
    "    async def build_tasks(client: httpx.AsyncClient, dates):\n",
    "        tasks = await FedInvestFetcher(\n",
    "            use_ust_issue_date=True, error_verbose=True\n",
    "        )._build_fetch_tasks_historical_cusip_prices(\n",
    "            client=client, dates=dates, max_concurrent_tasks=5\n",
    "        )\n",
    "        return await asyncio.gather(*tasks)\n",
    "\n",
    "    async def run_fetch_all(dates):\n",
    "        limits = httpx.Limits(max_connections=5)\n",
    "        async with httpx.AsyncClient(limits=limits) as client:\n",
    "            all_data = await build_tasks(client=client, dates=dates)\n",
    "            return all_data\n",
    "\n",
    "    results = asyncio.run(run_fetch_all(dates=dates))\n",
    "    return dict(results)"
   ]
  },
  {
   "cell_type": "code",
   "execution_count": 8,
   "metadata": {},
   "outputs": [],
   "source": [
    "def get_business_days_groups(start_date: datetime, end_date: datetime, group_size=3):\n",
    "    date_range = pd.date_range(start=start_date, end=end_date, freq=\"B\")\n",
    "    business_day_groups = [\n",
    "        [bday.to_pydatetime() for bday in date_range[i : i + group_size].tolist()]\n",
    "        for i in range(0, len(date_range), group_size)\n",
    "    ]\n",
    "    return business_day_groups\n",
    "\n",
    "\n",
    "start_date = datetime(2024, 8, 12)\n",
    "end_date = datetime(2024, 8, 16)\n",
    "weeks = get_business_days_groups(start_date, end_date, group_size=5)"
   ]
  },
  {
   "cell_type": "code",
   "execution_count": 9,
   "metadata": {},
   "outputs": [
    {
     "name": "stderr",
     "output_type": "stream",
     "text": [
      "2024-08-18 10:37:56,054 - script - DEBUG - UST Prices - 2024-08-12 00:00:00 Payload: {'priceDate.month': 8, 'priceDate.day': 12, 'priceDate.year': 2024, 'submit': 'Show Prices'}\n",
      "2024-08-18 10:37:56,078 - script - DEBUG - UST Prices - 2024-08-13 00:00:00 Payload: {'priceDate.month': 8, 'priceDate.day': 13, 'priceDate.year': 2024, 'submit': 'Show Prices'}\n",
      "2024-08-18 10:37:56,079 - script - DEBUG - UST Prices - 2024-08-14 00:00:00 Payload: {'priceDate.month': 8, 'priceDate.day': 14, 'priceDate.year': 2024, 'submit': 'Show Prices'}\n",
      "2024-08-18 10:37:56,080 - script - DEBUG - UST Prices - 2024-08-15 00:00:00 Payload: {'priceDate.month': 8, 'priceDate.day': 15, 'priceDate.year': 2024, 'submit': 'Show Prices'}\n",
      "2024-08-18 10:37:56,081 - script - DEBUG - UST Prices - 2024-08-16 00:00:00 Payload: {'priceDate.month': 8, 'priceDate.day': 16, 'priceDate.year': 2024, 'submit': 'Show Prices'}\n",
      "2024-08-18 10:37:56,425 - script - DEBUG - UST Prices - 2024-08-15 00:00:00 Redirecting to https://savingsbonds.gov/GA-FI/FedInvest/securityPriceDetail;jsessionid=A1C31151B3F620BFCE7F7FEB45EAF2F9\n",
      "2024-08-18 10:37:56,428 - script - DEBUG - UST Prices - 2024-08-16 00:00:00 Redirecting to https://savingsbonds.gov/GA-FI/FedInvest/securityPriceDetail;jsessionid=3F06E3739C94FB1680135E8840164A84\n",
      "2024-08-18 10:37:56,431 - script - DEBUG - UST Prices - 2024-08-12 00:00:00 Redirecting to https://savingsbonds.gov/GA-FI/FedInvest/securityPriceDetail;jsessionid=0395F16827189E7BCF0527CDB98A3096\n",
      "2024-08-18 10:37:56,433 - script - DEBUG - UST Prices - 2024-08-14 00:00:00 Redirecting to https://savingsbonds.gov/GA-FI/FedInvest/securityPriceDetail;jsessionid=035A985D4BCAB7353B88AFB0EA59A71F\n",
      "2024-08-18 10:37:56,436 - script - DEBUG - UST Prices - 2024-08-13 00:00:00 Redirecting to https://savingsbonds.gov/GA-FI/FedInvest/securityPriceDetail;jsessionid=6B0835DB143E098B51B5EC52437E0CC4\n"
     ]
    }
   ],
   "source": [
    "for week in weeks:\n",
    "    dict_df: Dict[datetime, pd.DataFrame] = runner(dates=week)\n",
    "    output_directory = r\"C:\\Users\\chris\\CUSIP-Set\"\n",
    "    for key, df in dict_df.items():\n",
    "        records = df.to_dict(orient='records')\n",
    "        json_structure = {\"data\": records}\n",
    "        file_name = f\"{key.strftime(\"%Y-%m-%d\")}.json\"\n",
    "        file_path = os.path.join(output_directory, file_name)\n",
    "        with open(file_path, 'w') as json_file:\n",
    "            json.dump(json_structure, json_file, indent=4) "
   ]
  },
  {
   "cell_type": "markdown",
   "metadata": {},
   "source": []
  }
 ],
 "metadata": {
  "kernelspec": {
   "display_name": "Python 3",
   "language": "python",
   "name": "python3"
  },
  "language_info": {
   "codemirror_mode": {
    "name": "ipython",
    "version": 3
   },
   "file_extension": ".py",
   "mimetype": "text/x-python",
   "name": "python",
   "nbconvert_exporter": "python",
   "pygments_lexer": "ipython3",
   "version": "3.12.1"
  }
 },
 "nbformat": 4,
 "nbformat_minor": 2
}
